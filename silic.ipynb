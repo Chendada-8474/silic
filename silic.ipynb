{
  "nbformat": 4,
  "nbformat_minor": 0,
  "metadata": {
    "accelerator": "GPU",
    "colab": {
      "name": "silic.ipynb",
      "provenance": [],
      "collapsed_sections": []
    },
    "kernelspec": {
      "display_name": "Python 3",
      "language": "python",
      "name": "python3"
    },
    "language_info": {
      "codemirror_mode": {
        "name": "ipython",
        "version": 3
      },
      "file_extension": ".py",
      "mimetype": "text/x-python",
      "name": "python",
      "nbconvert_exporter": "python",
      "pygments_lexer": "ipython3",
      "version": "3.6.5"
    }
  },
  "cells": [
    {
      "cell_type": "code",
      "metadata": {
        "id": "7jtLyvRXlrmz"
      },
      "source": [
        "!pip install pydub==0.24.1\n",
        "!pip install nnAudio==0.2.0\n",
        "!pip install yolov5==5.0.3"
      ],
      "execution_count": null,
      "outputs": []
    },
    {
      "cell_type": "code",
      "metadata": {
        "id": "FqZdKhBwx1N_"
      },
      "source": [
        "!git clone https://github.com/RedbirdTaiwan/silic"
      ],
      "execution_count": null,
      "outputs": []
    },
    {
      "cell_type": "code",
      "metadata": {
        "id": "4N22IV3syR2B"
      },
      "source": [
        "%cd 'silic'\n",
        "!git pull\n",
        "import pandas as pd\n",
        "import silic\n",
        "from IPython.display import Image"
      ],
      "execution_count": null,
      "outputs": []
    },
    {
      "cell_type": "code",
      "metadata": {
        "id": "Y7vpedhyy1Ki"
      },
      "source": [
        "model = silic.Silic()\n",
        "model.audio('sample/49593.mp3')"
      ],
      "execution_count": null,
      "outputs": []
    },
    {
      "cell_type": "code",
      "metadata": {
        "id": "fx8CVmxGrF6v"
      },
      "source": [
        "spect_linear = model.tfr()\n",
        "Image(spect_linear)"
      ],
      "execution_count": null,
      "outputs": []
    },
    {
      "cell_type": "code",
      "metadata": {
        "id": "0LRg31uJp9MN"
      },
      "source": [
        "spect_mel = model.tfr(spect_type='mel')\n",
        "Image(spect_mel)"
      ],
      "execution_count": null,
      "outputs": []
    },
    {
      "cell_type": "code",
      "metadata": {
        "id": "Riw3KN1LqWoi"
      },
      "source": [
        "spect_rainbow = model.tfr(spect_type='rainbow')\n",
        "Image(spect_mel)"
      ],
      "execution_count": null,
      "outputs": []
    },
    {
      "cell_type": "code",
      "metadata": {
        "id": "NAu-o3Uiuru7"
      },
      "source": [
        "labels = model.detect(weights='model/exp12/best.pt', step=1000, soundclasses=[66,101], conf_thres=0.1)"
      ],
      "execution_count": null,
      "outputs": []
    },
    {
      "cell_type": "code",
      "metadata": {
        "id": "2ehFtmW3gdHk"
      },
      "source": [
        "df = pd.DataFrame(labels[1:],columns=labels[0])\n",
        "df = df.sort_values('time_begin')\n",
        "print(df)"
      ],
      "execution_count": null,
      "outputs": []
    },
    {
      "cell_type": "code",
      "metadata": {
        "id": "V-GqFX_iCb-5"
      },
      "source": [
        "newlabels = silic.clean_multi_boxes(labels)\n",
        "print(newlabels)"
      ],
      "execution_count": null,
      "outputs": []
    },
    {
      "cell_type": "code",
      "metadata": {
        "id": "Dn_mw1l1kpmK"
      },
      "source": [
        "silic.draw_labels(model, newlabels)"
      ],
      "execution_count": null,
      "outputs": []
    },
    {
      "cell_type": "code",
      "metadata": {
        "id": "z1DKAS2U01rA"
      },
      "source": [
        "Image('sample/labels/49593.png')"
      ],
      "execution_count": null,
      "outputs": []
    }
  ]
}