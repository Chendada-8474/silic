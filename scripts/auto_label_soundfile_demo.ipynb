{
  "nbformat": 4,
  "nbformat_minor": 0,
  "metadata": {
    "colab": {
      "name": "auto_label",
      "provenance": []
    },
    "kernelspec": {
      "name": "python3",
      "display_name": "Python 3"
    },
    "accelerator": "GPU"
  },
  "cells": [
    {
      "cell_type": "code",
      "metadata": {
        "id": "IwAAzQ5BdFfo",
        "colab_type": "code",
        "colab": {}
      },
      "source": [
        "import tensorflow as tf, pandas as pd, numpy as np, time, os"
      ],
      "execution_count": 0,
      "outputs": []
    },
    {
      "cell_type": "code",
      "metadata": {
        "id": "ZwX0lHh9gINi",
        "colab_type": "code",
        "outputId": "ad3397ef-28e4-48ff-c865-e95f7c2d4c7f",
        "colab": {
          "base_uri": "https://localhost:8080/",
          "height": 85
        }
      },
      "source": [
        "!pip install pydub"
      ],
      "execution_count": 0,
      "outputs": [
        {
          "output_type": "stream",
          "text": [
            "Collecting pydub\n",
            "  Downloading https://files.pythonhosted.org/packages/79/db/eaf620b73a1eec3c8c6f8f5b0b236a50f9da88ad57802154b7ba7664d0b8/pydub-0.23.1-py2.py3-none-any.whl\n",
            "Installing collected packages: pydub\n",
            "Successfully installed pydub-0.23.1\n"
          ],
          "name": "stdout"
        }
      ]
    },
    {
      "cell_type": "code",
      "metadata": {
        "id": "GyH-PNAwgPGo",
        "colab_type": "code",
        "colab": {}
      },
      "source": [
        "# pydub\n",
        "from pydub import AudioSegment"
      ],
      "execution_count": 0,
      "outputs": []
    },
    {
      "cell_type": "code",
      "metadata": {
        "id": "3o2ZxRrxcbGH",
        "colab_type": "code",
        "outputId": "e6dc79b4-acc4-45b7-f507-68122d4336fd",
        "colab": {
          "base_uri": "https://localhost:8080/",
          "height": 119
        }
      },
      "source": [
        "!git clone https://github.com/RedbirdTaiwan/silic.git"
      ],
      "execution_count": 0,
      "outputs": [
        {
          "output_type": "stream",
          "text": [
            "Cloning into 'silic'...\n",
            "remote: Enumerating objects: 17, done.\u001b[K\n",
            "remote: Counting objects: 100% (17/17), done.\u001b[K\n",
            "remote: Compressing objects: 100% (13/13), done.\u001b[K\n",
            "remote: Total 35 (delta 4), reused 16 (delta 3), pack-reused 18\u001b[K\n",
            "Unpacking objects: 100% (35/35), done.\n"
          ],
          "name": "stdout"
        }
      ]
    },
    {
      "cell_type": "code",
      "metadata": {
        "id": "iVoZx-9VN7gh",
        "colab_type": "code",
        "outputId": "542855af-78ea-45b6-e788-7fbdb179c803",
        "colab": {
          "base_uri": "https://localhost:8080/",
          "height": 68
        }
      },
      "source": [
        "!ls silic/\n",
        "!ls silic/model\n",
        "!ls silic/sample"
      ],
      "execution_count": 0,
      "outputs": [
        {
          "output_type": "stream",
          "text": [
            "LICENSE  model\tREADME.md  sample  scripts\n",
            "conv_labels.txt  frozen_graph.pb  sound_class.txt\n",
            "11794.mp3\n"
          ],
          "name": "stdout"
        }
      ]
    },
    {
      "cell_type": "code",
      "metadata": {
        "id": "kKNrDm6pzMcx",
        "colab_type": "code",
        "colab": {}
      },
      "source": [
        "class Autolabel():\n",
        "  def __init__(self, label_file, graph_file):\n",
        "    self.label_file = label_file\n",
        "    self.graph_file = graph_file\n",
        "    self.__sound = ''\n",
        "    self.results = {}\n",
        "\n",
        "  def audiofile(self, audio_file):\n",
        "    frame_rate = 30000\n",
        "    filext = audio_file[-3:].lower()\n",
        "    if filext == \"mp3\":\n",
        "        self.__sound = AudioSegment.from_mp3(audio_file)\n",
        "    elif filext == \"wma\":\n",
        "        self.__sound = AudioSegment.from_file(audio_file, \"wma\")\n",
        "    elif filext == \"m4a\":\n",
        "        self.__sound = AudioSegment.from_file(audio_file, \"m4a\")\n",
        "    elif filext == \"ogg\":\n",
        "        self.__sound = AudioSegment.from_ogg(audio_file)\n",
        "    else:\n",
        "        self.__sound = AudioSegment.from_wav(audio_file)\n",
        "    if self.__sound.frame_rate > frame_rate:\n",
        "        self.__sound = self.__sound.set_frame_rate(frame_rate)\n",
        "    if self.__sound.channels > 1:\n",
        "        self.__sound = self.__sound.split_to_mono()[0]\n",
        "    if not self.__sound.sample_width == 2:\n",
        "        self.__sound = self.__sound.set_sample_width(2)\n",
        "\n",
        "  def ailabel(self, **kwargs):\n",
        "    if not len(self.__sound):\n",
        "      print('use \".audiofile(<audio_file_path>)\" to import a recording')\n",
        "      return false\n",
        "    if not 'step' in kwargs.keys():\n",
        "      step = 3000\n",
        "    else:\n",
        "      step = kwargs['step']\n",
        "    sample_rate = 30000\n",
        "    clip_duration_ms = 3000\n",
        "    labels_list = [line.rstrip() for line in tf.io.gfile.GFile(self.label_file)]\n",
        "    with tf.io.gfile.GFile(self.graph_file, 'rb') as f:\n",
        "      graph_def = tf.compat.v1.GraphDef()\n",
        "      graph_def.ParseFromString(f.read())\n",
        "      tf.import_graph_def(graph_def, name='')\n",
        "    sess = tf.compat.v1.Session()\n",
        "    softmax_tensor = sess.graph.get_tensor_by_name('labels_softmax:0')\n",
        "    self.results = {k:[] for k in labels_list[2:]}\n",
        "    for t in range(0,len(self.__sound),step):\n",
        "      if (t + clip_duration_ms) < len(self.__sound):\n",
        "        soundclip = self.__sound[t:t+clip_duration_ms]\n",
        "        soundclip.export('tmp.wav', format=\"wav\")\n",
        "        with open('tmp.wav', 'rb') as wav:\n",
        "          wav_data2 = wav.read()\n",
        "        predictions, = sess.run(softmax_tensor, {'wav_data:0': wav_data2})\n",
        "        for node_id in range(2, len(labels_list)):\n",
        "          song_of_bird = labels_list[node_id]\n",
        "          score = round(predictions[node_id],3)\n",
        "          self.results[song_of_bird].append([t,score])"
      ],
      "execution_count": 0,
      "outputs": []
    },
    {
      "cell_type": "code",
      "metadata": {
        "id": "BXd19AnA3DVy",
        "colab_type": "code",
        "colab": {}
      },
      "source": [
        "test = Autolabel('silic/model/conv_labels.txt', 'silic/model/frozen_graph.pb')"
      ],
      "execution_count": 0,
      "outputs": []
    },
    {
      "cell_type": "code",
      "metadata": {
        "id": "zGc6nHqy3NPS",
        "colab_type": "code",
        "colab": {}
      },
      "source": [
        "test.audiofile('silic/sample/11794.mp3')"
      ],
      "execution_count": 0,
      "outputs": []
    },
    {
      "cell_type": "code",
      "metadata": {
        "id": "euCqnvQu6Qk6",
        "colab_type": "code",
        "colab": {}
      },
      "source": [
        "test.ailabel(step=1000)"
      ],
      "execution_count": 0,
      "outputs": []
    },
    {
      "cell_type": "code",
      "metadata": {
        "id": "I17fQ_Np3zi_",
        "colab_type": "code",
        "outputId": "795d9b26-add9-4857-a5b0-0772bd43c205",
        "colab": {
          "base_uri": "https://localhost:8080/",
          "height": 1000
        }
      },
      "source": [
        "results = test.results\n",
        "soundclass = pd.read_csv('silic/model/sound_class.txt', index_col=0, sep='\\t').T.to_dict()\n",
        "for soundid, scores in zip(results.keys(), results.values()):\n",
        "  for score in scores:\n",
        "    if score[1] >= 0.8:\n",
        "      sound = soundclass[int(soundid)]['scientific_name'] + ':' + soundclass[int(soundid)]['class_name']\n",
        "      time_start = int(score[0]/1000)\n",
        "      ai_score = score[1]\n",
        "      print(sound, time_start, ai_score)"
      ],
      "execution_count": 37,
      "outputs": [
        {
          "output_type": "stream",
          "text": [
            "Glaucidium brodiei:S-01 7 0.935\n",
            "Glaucidium brodiei:S-01 9 0.953\n",
            "Glaucidium brodiei:S-01 10 0.916\n",
            "Glaucidium brodiei:S-01 11 0.929\n",
            "Glaucidium brodiei:S-01 13 0.82\n",
            "Glaucidium brodiei:S-01 14 0.929\n",
            "Glaucidium brodiei:S-01 226 0.81\n",
            "Glaucidium brodiei:S-01 229 0.82\n",
            "Glaucidium brodiei:S-01 249 0.906\n",
            "Glaucidium brodiei:S-01 261 0.959\n",
            "Glaucidium brodiei:S-01 262 0.93\n",
            "Glaucidium brodiei:S-01 263 0.85\n",
            "Glaucidium brodiei:S-01 281 0.848\n",
            "Glaucidium brodiei:S-01 282 0.885\n",
            "Glaucidium brodiei:S-01 286 0.885\n",
            "Glaucidium brodiei:S-01 287 0.827\n",
            "Ninox japonica:S-01 0 0.907\n",
            "Ninox japonica:S-01 1 0.938\n",
            "Ninox japonica:S-01 35 0.982\n",
            "Ninox japonica:S-01 36 0.994\n",
            "Ninox japonica:S-01 37 0.971\n",
            "Ninox japonica:S-01 38 0.999\n",
            "Ninox japonica:S-01 39 0.99\n",
            "Ninox japonica:S-01 40 0.992\n",
            "Ninox japonica:S-01 41 0.965\n",
            "Ninox japonica:S-01 42 0.999\n",
            "Ninox japonica:S-01 43 0.992\n",
            "Ninox japonica:S-01 44 0.955\n",
            "Ninox japonica:S-01 45 0.982\n",
            "Ninox japonica:S-01 46 0.994\n",
            "Ninox japonica:S-01 47 0.966\n",
            "Ninox japonica:S-01 48 0.91\n",
            "Ninox japonica:S-01 49 0.951\n",
            "Ninox japonica:S-01 50 0.985\n",
            "Ninox japonica:S-01 51 0.944\n",
            "Ninox japonica:S-01 92 0.995\n",
            "Ninox japonica:S-01 93 0.993\n",
            "Ninox japonica:S-01 94 0.994\n",
            "Ninox japonica:S-01 95 0.997\n",
            "Ninox japonica:S-01 96 0.991\n",
            "Ninox japonica:S-01 97 0.996\n",
            "Ninox japonica:S-01 98 0.988\n",
            "Ninox japonica:S-01 99 0.999\n",
            "Ninox japonica:S-01 100 0.989\n",
            "Ninox japonica:S-01 101 0.995\n",
            "Ninox japonica:S-01 102 0.983\n",
            "Ninox japonica:S-01 103 0.996\n",
            "Ninox japonica:S-01 104 0.987\n",
            "Ninox japonica:S-01 105 0.991\n",
            "Ninox japonica:S-01 106 0.976\n",
            "Ninox japonica:S-01 107 0.967\n",
            "Ninox japonica:S-01 108 0.981\n",
            "Ninox japonica:S-01 109 0.858\n",
            "Ninox japonica:S-01 110 0.851\n",
            "Ninox japonica:S-01 111 0.956\n",
            "Ninox japonica:S-01 112 0.981\n",
            "Ninox japonica:S-01 113 0.961\n",
            "Ninox japonica:S-01 114 0.918\n",
            "Ninox japonica:S-01 115 0.98\n",
            "Ninox japonica:S-01 145 0.991\n",
            "Ninox japonica:S-01 146 0.98\n",
            "Ninox japonica:S-01 147 0.999\n",
            "Ninox japonica:S-01 148 0.97\n",
            "Ninox japonica:S-01 149 0.9\n",
            "Ninox japonica:S-01 150 0.864\n",
            "Ninox japonica:S-01 151 0.981\n",
            "Ninox japonica:S-01 152 0.986\n",
            "Ninox japonica:S-01 153 0.956\n",
            "Ninox japonica:S-01 154 0.984\n",
            "Ninox japonica:S-01 155 0.864\n",
            "Ninox japonica:S-01 183 0.965\n",
            "Ninox japonica:S-01 184 1.0\n",
            "Ninox japonica:S-01 185 0.997\n",
            "Ninox japonica:S-01 186 0.996\n",
            "Ninox japonica:S-01 187 0.989\n",
            "Ninox japonica:S-01 188 0.986\n",
            "Ninox japonica:S-01 189 0.999\n",
            "Ninox japonica:S-01 190 0.944\n",
            "Ninox japonica:S-01 191 0.982\n",
            "Ninox japonica:S-01 192 0.996\n",
            "Ninox japonica:S-01 193 0.997\n",
            "Ninox japonica:S-01 194 0.872\n",
            "Ninox japonica:S-01 195 0.983\n",
            "Ninox japonica:S-01 196 0.989\n",
            "Ninox japonica:S-01 197 0.992\n",
            "Ninox japonica:S-01 198 0.987\n",
            "Ninox japonica:S-01 199 0.874\n",
            "Ninox japonica:S-01 200 0.933\n",
            "Ninox japonica:S-01 201 0.99\n",
            "Ninox japonica:S-01 202 0.941\n",
            "Ninox japonica:S-01 203 0.906\n",
            "Ninox japonica:S-01 204 0.879\n",
            "Ninox japonica:S-01 205 0.919\n",
            "Ninox japonica:S-01 206 0.97\n",
            "Ninox japonica:S-01 207 0.896\n",
            "Ninox japonica:S-01 208 0.998\n",
            "Ninox japonica:S-01 209 0.997\n",
            "Ninox japonica:S-01 210 0.979\n",
            "Ninox japonica:S-01 211 0.989\n",
            "Ninox japonica:S-01 212 0.994\n",
            "Ninox japonica:S-01 213 0.974\n",
            "Ninox japonica:S-01 265 0.953\n",
            "Ninox japonica:S-01 267 0.982\n",
            "Ninox japonica:S-01 268 0.999\n",
            "Ninox japonica:S-01 269 0.994\n",
            "Ninox japonica:S-01 270 0.999\n",
            "Ninox japonica:S-01 271 0.98\n",
            "Ninox japonica:S-01 272 0.998\n",
            "Ninox japonica:S-01 273 0.995\n",
            "Ninox japonica:S-01 274 0.999\n",
            "Ninox japonica:S-01 275 0.994\n",
            "Ninox japonica:S-01 276 0.986\n",
            "Ninox japonica:S-01 277 0.849\n",
            "Ninox japonica:S-01 279 0.912\n"
          ],
          "name": "stdout"
        }
      ]
    }
  ]
}