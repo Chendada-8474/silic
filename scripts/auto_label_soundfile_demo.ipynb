{
  "nbformat": 4,
  "nbformat_minor": 0,
  "metadata": {
    "colab": {
      "name": "auto_label",
      "provenance": []
    },
    "kernelspec": {
      "name": "python3",
      "display_name": "Python 3"
    },
    "accelerator": "GPU"
  },
  "cells": [
    {
      "cell_type": "code",
      "metadata": {
        "id": "IwAAzQ5BdFfo",
        "colab_type": "code",
        "colab": {}
      },
      "source": [
        "import tensorflow as tf, pandas as pd, numpy as np, time, os"
      ],
      "execution_count": 0,
      "outputs": []
    },
    {
      "cell_type": "code",
      "metadata": {
        "id": "ZwX0lHh9gINi",
        "colab_type": "code",
        "colab": {
          "base_uri": "https://localhost:8080/",
          "height": 85
        },
        "outputId": "0f29a007-aa95-49ce-ba84-03611c167e9c"
      },
      "source": [
        "!pip install pydub"
      ],
      "execution_count": 5,
      "outputs": [
        {
          "output_type": "stream",
          "text": [
            "Collecting pydub\n",
            "  Downloading https://files.pythonhosted.org/packages/79/db/eaf620b73a1eec3c8c6f8f5b0b236a50f9da88ad57802154b7ba7664d0b8/pydub-0.23.1-py2.py3-none-any.whl\n",
            "Installing collected packages: pydub\n",
            "Successfully installed pydub-0.23.1\n"
          ],
          "name": "stdout"
        }
      ]
    },
    {
      "cell_type": "code",
      "metadata": {
        "id": "GyH-PNAwgPGo",
        "colab_type": "code",
        "colab": {}
      },
      "source": [
        "# pydub\n",
        "from pydub import AudioSegment"
      ],
      "execution_count": 0,
      "outputs": []
    },
    {
      "cell_type": "code",
      "metadata": {
        "id": "3o2ZxRrxcbGH",
        "colab_type": "code",
        "outputId": "9cfae376-2a5f-4ff7-f2ba-ccae1706bf72",
        "colab": {
          "base_uri": "https://localhost:8080/",
          "height": 85
        }
      },
      "source": [
        "!git clone https://github.com/RedbirdTaiwan/silic.git"
      ],
      "execution_count": 9,
      "outputs": [
        {
          "output_type": "stream",
          "text": [
            "Cloning into 'silic'...\n",
            "remote: Enumerating objects: 18, done.\u001b[K\n",
            "remote: Total 18 (delta 0), reused 0 (delta 0), pack-reused 18\u001b[K\n",
            "Unpacking objects: 100% (18/18), done.\n"
          ],
          "name": "stdout"
        }
      ]
    },
    {
      "cell_type": "code",
      "metadata": {
        "id": "iVoZx-9VN7gh",
        "colab_type": "code",
        "outputId": "123ca5ca-38a4-4b34-fed1-44a0877dfe84",
        "colab": {
          "base_uri": "https://localhost:8080/",
          "height": 68
        }
      },
      "source": [
        "!ls silic/\n",
        "!ls silic/model\n",
        "!ls silic/sample"
      ],
      "execution_count": 46,
      "outputs": [
        {
          "output_type": "stream",
          "text": [
            "LICENSE  model\tREADME.md  sample\n",
            "conv_labels.txt  frozen_graph.pb  sound_class.txt\n",
            "25068.mp3  87864.mp3\n"
          ],
          "name": "stdout"
        }
      ]
    },
    {
      "cell_type": "code",
      "metadata": {
        "id": "kKNrDm6pzMcx",
        "colab_type": "code",
        "colab": {}
      },
      "source": [
        "class Autolabel():\n",
        "  def __init__(self, label_file, graph_file):\n",
        "    self.label_file = label_file\n",
        "    self.graph_file = graph_file\n",
        "    self.__sound = ''\n",
        "    self.results = {}\n",
        "\n",
        "  def audiofile(self, audio_file):\n",
        "    frame_rate = 30000\n",
        "    filext = audio_file[-3:].lower()\n",
        "    if filext == \"mp3\":\n",
        "        self.__sound = AudioSegment.from_mp3(audio_file)\n",
        "    elif filext == \"wma\":\n",
        "        self.__sound = AudioSegment.from_file(audio_file, \"wma\")\n",
        "    elif filext == \"m4a\":\n",
        "        self.__sound = AudioSegment.from_file(audio_file, \"m4a\")\n",
        "    elif filext == \"ogg\":\n",
        "        self.__sound = AudioSegment.from_ogg(audio_file)\n",
        "    else:\n",
        "        self.__sound = AudioSegment.from_wav(audio_file)\n",
        "    if self.__sound.frame_rate > frame_rate:\n",
        "        self.__sound = self.__sound.set_frame_rate(frame_rate)\n",
        "    if self.__sound.channels > 1:\n",
        "        self.__sound = self.__sound.split_to_mono()[0]\n",
        "    if not self.__sound.sample_width == 2:\n",
        "        self.__sound = self.__sound.set_sample_width(2)\n",
        "\n",
        "  def ailabel(self, **kwargs):\n",
        "    if not len(self.__sound):\n",
        "      print('use \".audiofile(<audio_file_path>)\" to import a recording')\n",
        "      return false\n",
        "    if not 'step' in kwargs.keys():\n",
        "      step = 3000\n",
        "    else:\n",
        "      step = kwargs['step']\n",
        "    sample_rate = 30000\n",
        "    clip_duration_ms = 3000\n",
        "    labels_list = [line.rstrip() for line in tf.io.gfile.GFile(self.label_file)]\n",
        "    with tf.io.gfile.GFile(self.graph_file, 'rb') as f:\n",
        "      graph_def = tf.compat.v1.GraphDef()\n",
        "      graph_def.ParseFromString(f.read())\n",
        "      tf.import_graph_def(graph_def, name='')\n",
        "    sess = tf.compat.v1.Session()\n",
        "    softmax_tensor = sess.graph.get_tensor_by_name('labels_softmax:0')\n",
        "    self.results = {k:[] for k in labels_list[2:]}\n",
        "    for t in range(0,len(self.__sound),step):\n",
        "      if (t + clip_duration_ms) < len(self.__sound):\n",
        "        soundclip = self.__sound[t:t+clip_duration_ms]\n",
        "        soundclip.export('tmp.wav', format=\"wav\")\n",
        "        with open('tmp.wav', 'rb') as wav:\n",
        "          wav_data2 = wav.read()\n",
        "        predictions, = sess.run(softmax_tensor, {'wav_data:0': wav_data2})\n",
        "        for node_id in range(2, len(labels_list)):\n",
        "          song_of_bird = labels_list[node_id]\n",
        "          score = round(predictions[node_id],3)\n",
        "          self.results[song_of_bird].append([t,score])"
      ],
      "execution_count": 0,
      "outputs": []
    },
    {
      "cell_type": "code",
      "metadata": {
        "id": "BXd19AnA3DVy",
        "colab_type": "code",
        "colab": {}
      },
      "source": [
        "test = Autolabel('silic/model/conv_labels.txt', 'silic/model/frozen_graph.pb')"
      ],
      "execution_count": 0,
      "outputs": []
    },
    {
      "cell_type": "code",
      "metadata": {
        "id": "zGc6nHqy3NPS",
        "colab_type": "code",
        "colab": {}
      },
      "source": [
        "test.audiofile('silic/sample/87864.mp3')"
      ],
      "execution_count": 0,
      "outputs": []
    },
    {
      "cell_type": "code",
      "metadata": {
        "id": "euCqnvQu6Qk6",
        "colab_type": "code",
        "colab": {}
      },
      "source": [
        "test.ailabel(step=1000)"
      ],
      "execution_count": 0,
      "outputs": []
    },
    {
      "cell_type": "code",
      "metadata": {
        "id": "I17fQ_Np3zi_",
        "colab_type": "code",
        "colab": {
          "base_uri": "https://localhost:8080/",
          "height": 136
        },
        "outputId": "7fc33685-2b31-4c62-c17c-9beaf26388ec"
      },
      "source": [
        "results = test.results\n",
        "soundclass = pd.read_csv('silic/model/sound_class.txt', index_col=0, sep='\\t').T.to_dict()\n",
        "for soundid, scores in zip(results.keys(), results.values()):\n",
        "  for score in scores:\n",
        "    if score[1] >= 0.2:\n",
        "      sound = soundclass[int(soundid)]['common_name'] + ':' + soundclass[int(soundid)]['class_name']\n",
        "      print(sound, int(score[0]/1000), score[1])"
      ],
      "execution_count": 85,
      "outputs": [
        {
          "output_type": "stream",
          "text": [
            "青背山雀:S-01 34 0.204\n",
            "青背山雀:S-01 35 0.201\n",
            "深山鶯:C-01 2 0.209\n",
            "深山鶯:C-01 8 0.205\n",
            "深山鶯:C-01 9 0.22\n",
            "深山鶯:C-01 20 0.212\n",
            "深山鶯:C-01 55 0.204\n"
          ],
          "name": "stdout"
        }
      ]
    }
  ]
}