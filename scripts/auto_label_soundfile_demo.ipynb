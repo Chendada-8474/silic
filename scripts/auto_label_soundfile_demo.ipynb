{
  "nbformat": 4,
  "nbformat_minor": 0,
  "metadata": {
    "colab": {
      "name": "auto_label",
      "provenance": []
    },
    "kernelspec": {
      "name": "python3",
      "display_name": "Python 3"
    },
    "accelerator": "GPU"
  },
  "cells": [
    {
      "cell_type": "code",
      "metadata": {
        "id": "IwAAzQ5BdFfo",
        "colab_type": "code",
        "colab": {}
      },
      "source": [
        "import tensorflow as tf, pandas as pd, numpy as np, time, os"
      ],
      "execution_count": 0,
      "outputs": []
    },
    {
      "cell_type": "code",
      "metadata": {
        "id": "ZwX0lHh9gINi",
        "colab_type": "code",
        "outputId": "034b93cb-1ad4-4aa4-d8d8-79ffc1e48d56",
        "colab": {
          "base_uri": "https://localhost:8080/",
          "height": 85
        }
      },
      "source": [
        "!pip install pydub"
      ],
      "execution_count": 2,
      "outputs": [
        {
          "output_type": "stream",
          "text": [
            "Collecting pydub\n",
            "  Downloading https://files.pythonhosted.org/packages/79/db/eaf620b73a1eec3c8c6f8f5b0b236a50f9da88ad57802154b7ba7664d0b8/pydub-0.23.1-py2.py3-none-any.whl\n",
            "Installing collected packages: pydub\n",
            "Successfully installed pydub-0.23.1\n"
          ],
          "name": "stdout"
        }
      ]
    },
    {
      "cell_type": "code",
      "metadata": {
        "id": "GyH-PNAwgPGo",
        "colab_type": "code",
        "colab": {}
      },
      "source": [
        "# pydub\n",
        "from pydub import AudioSegment"
      ],
      "execution_count": 0,
      "outputs": []
    },
    {
      "cell_type": "code",
      "metadata": {
        "id": "3o2ZxRrxcbGH",
        "colab_type": "code",
        "outputId": "6af36fb3-ea74-4778-ea03-194b1c94e255",
        "colab": {
          "base_uri": "https://localhost:8080/",
          "height": 119
        }
      },
      "source": [
        "!git clone https://github.com/RedbirdTaiwan/silic.git"
      ],
      "execution_count": 4,
      "outputs": [
        {
          "output_type": "stream",
          "text": [
            "Cloning into 'silic'...\n",
            "remote: Enumerating objects: 38, done.\u001b[K\n",
            "remote: Counting objects: 100% (38/38), done.\u001b[K\n",
            "remote: Compressing objects: 100% (27/27), done.\u001b[K\n",
            "remote: Total 56 (delta 11), reused 37 (delta 10), pack-reused 18\u001b[K\n",
            "Unpacking objects: 100% (56/56), done.\n"
          ],
          "name": "stdout"
        }
      ]
    },
    {
      "cell_type": "code",
      "metadata": {
        "id": "iVoZx-9VN7gh",
        "colab_type": "code",
        "outputId": "4703bd5d-5ed8-4aa6-8340-f7adee5689dd",
        "colab": {
          "base_uri": "https://localhost:8080/",
          "height": 68
        }
      },
      "source": [
        "!ls silic/\n",
        "!ls silic/model\n",
        "!ls silic/sample"
      ],
      "execution_count": 5,
      "outputs": [
        {
          "output_type": "stream",
          "text": [
            "LICENSE  model\tREADME.md  sample  scripts\n",
            "conv_labels.txt  frozen_graph.pb  sound_class.txt\n",
            "11794.mp3\n"
          ],
          "name": "stdout"
        }
      ]
    },
    {
      "cell_type": "code",
      "metadata": {
        "id": "MRNv_PYJOTO2",
        "colab_type": "code",
        "colab": {}
      },
      "source": [
        "from google.colab import files"
      ],
      "execution_count": 0,
      "outputs": []
    },
    {
      "cell_type": "code",
      "metadata": {
        "id": "bKZSSQwDOWc7",
        "colab_type": "code",
        "colab": {}
      },
      "source": [
        "files.upload()"
      ],
      "execution_count": 0,
      "outputs": []
    },
    {
      "cell_type": "code",
      "metadata": {
        "id": "kKNrDm6pzMcx",
        "colab_type": "code",
        "colab": {}
      },
      "source": [
        "class Autolabel():\n",
        "    def __init__(self, label_file, graph_file):\n",
        "        self.label_file = label_file\n",
        "        self.graph_file = graph_file\n",
        "        self.__sound = ''\n",
        "        self.filename = ''\n",
        "        self.results = {}\n",
        "        self.labels_list = [line.rstrip() for line in tf.io.gfile.GFile(self.label_file)]\n",
        "        with tf.io.gfile.GFile(self.graph_file, 'rb') as f:\n",
        "            graph_def = tf.compat.v1.GraphDef()\n",
        "            graph_def.ParseFromString(f.read())\n",
        "            tf.import_graph_def(graph_def, name='')\n",
        "        self.sess = tf.compat.v1.Session()\n",
        "        self.softmax_tensor = self.sess.graph.get_tensor_by_name('labels_softmax:0')\n",
        "\n",
        "    def readfile(self, audio_file):\n",
        "        frame_rate = 30000\n",
        "        self.filename = audio_file\n",
        "        filext = audio_file[-3:].lower()\n",
        "        if filext == \"mp3\":\n",
        "            self.__sound = AudioSegment.from_mp3(audio_file)\n",
        "        elif filext == \"wma\":\n",
        "            self.__sound = AudioSegment.from_file(audio_file, \"wma\")\n",
        "        elif filext == \"m4a\":\n",
        "            self.__sound = AudioSegment.from_file(audio_file, \"m4a\")\n",
        "        elif filext == \"ogg\":\n",
        "            self.__sound = AudioSegment.from_ogg(audio_file)\n",
        "        else:\n",
        "            self.__sound = AudioSegment.from_wav(audio_file)\n",
        "        if self.__sound.frame_rate > frame_rate:\n",
        "            self.__sound = self.__sound.set_frame_rate(frame_rate)\n",
        "        if self.__sound.channels > 1:\n",
        "            self.__sound = self.__sound.split_to_mono()[0]\n",
        "        if not self.__sound.sample_width == 2:\n",
        "            self.__sound = self.__sound.set_sample_width(2)\n",
        "\n",
        "    def ailabel(self, **kwargs):\n",
        "        if not len(self.__sound):\n",
        "            print('use \".readfile(<audio_file_path>)\" to import a recording')\n",
        "            return False\n",
        "        clip_duration_ms = 2000\n",
        "        if not 'step' in kwargs.keys():\n",
        "            step = clip_duration_ms\n",
        "        else:\n",
        "            step = kwargs['step']\n",
        "        if not 'target' in kwargs.keys() or not kwargs['target']:\n",
        "            self.results = {int(k):[] for k in self.labels_list[2:]}\n",
        "        else:\n",
        "            self.results = {k:[] for k in kwargs['target']}\n",
        "        for t in range(0,len(self.__sound),step):\n",
        "            if (t + clip_duration_ms) <= len(self.__sound):\n",
        "                soundclip = self.__sound[t:t+clip_duration_ms]\n",
        "                tmpwav = \"%s_tmp.wav\" %self.filename\n",
        "                soundclip.export(tmpwav, format=\"wav\")\n",
        "                with open(tmpwav, 'rb') as wav:\n",
        "                    wav_data2 = wav.read()\n",
        "                predictions, = self.sess.run(self.softmax_tensor, {'wav_data:0': wav_data2})\n",
        "                for node_id in range(2, len(self.labels_list)):\n",
        "                    soundid = int(self.labels_list[node_id])\n",
        "                    if soundid in self.results.keys():\n",
        "                        score = round(predictions[node_id],3)\n",
        "                        self.results[soundid].append([t,score])\n",
        "                if os.path.exists(tmpwav):\n",
        "                    os.remove(tmpwav)"
      ],
      "execution_count": 0,
      "outputs": []
    },
    {
      "cell_type": "code",
      "metadata": {
        "id": "BXd19AnA3DVy",
        "colab_type": "code",
        "colab": {}
      },
      "source": [
        "test = Autolabel('silic/model/conv_labels.txt', 'silic/model/frozen_graph.pb')"
      ],
      "execution_count": 0,
      "outputs": []
    },
    {
      "cell_type": "code",
      "metadata": {
        "id": "zGc6nHqy3NPS",
        "colab_type": "code",
        "colab": {}
      },
      "source": [
        "test.readfile('silic/sample/11794.mp3')"
      ],
      "execution_count": 0,
      "outputs": []
    },
    {
      "cell_type": "code",
      "metadata": {
        "id": "euCqnvQu6Qk6",
        "colab_type": "code",
        "colab": {}
      },
      "source": [
        "test.ailabel(step=1000)"
      ],
      "execution_count": 0,
      "outputs": []
    },
    {
      "cell_type": "code",
      "metadata": {
        "id": "I17fQ_Np3zi_",
        "colab_type": "code",
        "colab": {
          "base_uri": "https://localhost:8080/",
          "height": 1000
        },
        "outputId": "0a403a07-1fd5-4797-ad3e-b06e7c5fbfe4"
      },
      "source": [
        "results = test.results\n",
        "soundclass = pd.read_csv('silic/model/sound_class.txt', index_col=0, sep='\\t').T.to_dict()\n",
        "print('\\t'.join(['sound', 'time_start', 'ai_score']))\n",
        "print('===============================')\n",
        "for soundid, scores in zip(results.keys(), results.values()):\n",
        "  for score in scores:\n",
        "    if score[1] >= 0.65:\n",
        "      sound = soundclass[int(soundid)]['scientific_name'] + ':' + soundclass[int(soundid)]['class_name']\n",
        "      time_start = score[0]/1000\n",
        "      ai_score = score[1]\n",
        "      print('\\t'.join([str(sound), str(time_start), str(ai_score)]))"
      ],
      "execution_count": 21,
      "outputs": [
        {
          "output_type": "stream",
          "text": [
            "sound\ttime_start\tai_score\n",
            "===============================\n",
            "Otus spilocephalus:S-01\t60.0\t0.654\n",
            "Otus spilocephalus:S-01\t236.0\t0.738\n",
            "Ninox japonica:S-01\t1.0\t0.66\n",
            "Ninox japonica:S-01\t5.0\t0.81\n",
            "Ninox japonica:S-01\t36.0\t0.951\n",
            "Ninox japonica:S-01\t37.0\t0.824\n",
            "Ninox japonica:S-01\t38.0\t0.911\n",
            "Ninox japonica:S-01\t39.0\t0.949\n",
            "Ninox japonica:S-01\t40.0\t0.942\n",
            "Ninox japonica:S-01\t41.0\t0.867\n",
            "Ninox japonica:S-01\t42.0\t0.805\n",
            "Ninox japonica:S-01\t43.0\t0.985\n",
            "Ninox japonica:S-01\t44.0\t0.865\n",
            "Ninox japonica:S-01\t45.0\t0.876\n",
            "Ninox japonica:S-01\t46.0\t0.812\n",
            "Ninox japonica:S-01\t47.0\t0.934\n",
            "Ninox japonica:S-01\t49.0\t0.868\n",
            "Ninox japonica:S-01\t50.0\t0.821\n",
            "Ninox japonica:S-01\t51.0\t0.949\n",
            "Ninox japonica:S-01\t93.0\t0.943\n",
            "Ninox japonica:S-01\t94.0\t0.789\n",
            "Ninox japonica:S-01\t95.0\t0.939\n",
            "Ninox japonica:S-01\t96.0\t0.895\n",
            "Ninox japonica:S-01\t97.0\t0.977\n",
            "Ninox japonica:S-01\t98.0\t0.876\n",
            "Ninox japonica:S-01\t99.0\t0.953\n",
            "Ninox japonica:S-01\t100.0\t0.943\n",
            "Ninox japonica:S-01\t101.0\t0.938\n",
            "Ninox japonica:S-01\t102.0\t0.943\n",
            "Ninox japonica:S-01\t103.0\t0.808\n",
            "Ninox japonica:S-01\t104.0\t0.976\n",
            "Ninox japonica:S-01\t105.0\t0.72\n",
            "Ninox japonica:S-01\t106.0\t0.95\n",
            "Ninox japonica:S-01\t107.0\t0.666\n",
            "Ninox japonica:S-01\t108.0\t0.929\n",
            "Ninox japonica:S-01\t109.0\t0.678\n",
            "Ninox japonica:S-01\t110.0\t0.665\n",
            "Ninox japonica:S-01\t112.0\t0.856\n",
            "Ninox japonica:S-01\t113.0\t0.692\n",
            "Ninox japonica:S-01\t114.0\t0.871\n",
            "Ninox japonica:S-01\t116.0\t0.896\n",
            "Ninox japonica:S-01\t145.0\t0.754\n",
            "Ninox japonica:S-01\t146.0\t0.899\n",
            "Ninox japonica:S-01\t147.0\t0.89\n",
            "Ninox japonica:S-01\t148.0\t0.941\n",
            "Ninox japonica:S-01\t149.0\t0.67\n",
            "Ninox japonica:S-01\t152.0\t0.923\n",
            "Ninox japonica:S-01\t154.0\t0.689\n",
            "Ninox japonica:S-01\t155.0\t0.67\n",
            "Ninox japonica:S-01\t184.0\t0.816\n",
            "Ninox japonica:S-01\t185.0\t0.979\n",
            "Ninox japonica:S-01\t186.0\t0.946\n",
            "Ninox japonica:S-01\t187.0\t0.901\n",
            "Ninox japonica:S-01\t189.0\t0.872\n",
            "Ninox japonica:S-01\t190.0\t0.914\n",
            "Ninox japonica:S-01\t191.0\t0.923\n",
            "Ninox japonica:S-01\t192.0\t0.705\n",
            "Ninox japonica:S-01\t193.0\t0.964\n",
            "Ninox japonica:S-01\t194.0\t0.908\n",
            "Ninox japonica:S-01\t195.0\t0.69\n",
            "Ninox japonica:S-01\t196.0\t0.824\n",
            "Ninox japonica:S-01\t197.0\t0.931\n",
            "Ninox japonica:S-01\t198.0\t0.923\n",
            "Ninox japonica:S-01\t199.0\t0.964\n",
            "Ninox japonica:S-01\t201.0\t0.792\n",
            "Ninox japonica:S-01\t203.0\t0.722\n",
            "Ninox japonica:S-01\t207.0\t0.889\n",
            "Ninox japonica:S-01\t209.0\t0.952\n",
            "Ninox japonica:S-01\t210.0\t0.838\n",
            "Ninox japonica:S-01\t211.0\t0.823\n",
            "Ninox japonica:S-01\t212.0\t0.917\n",
            "Ninox japonica:S-01\t213.0\t0.907\n",
            "Ninox japonica:S-01\t214.0\t0.748\n",
            "Ninox japonica:S-01\t266.0\t0.692\n",
            "Ninox japonica:S-01\t268.0\t0.877\n",
            "Ninox japonica:S-01\t269.0\t0.943\n",
            "Ninox japonica:S-01\t270.0\t0.923\n",
            "Ninox japonica:S-01\t271.0\t0.829\n",
            "Ninox japonica:S-01\t272.0\t0.884\n",
            "Ninox japonica:S-01\t273.0\t0.77\n",
            "Ninox japonica:S-01\t274.0\t0.95\n",
            "Ninox japonica:S-01\t275.0\t0.961\n",
            "Ninox japonica:S-01\t276.0\t0.847\n",
            "Ninox japonica:S-01\t277.0\t0.86\n",
            "Glaucidium brodiei:S-01\t8.0\t0.808\n",
            "Glaucidium brodiei:S-01\t10.0\t0.798\n",
            "Glaucidium brodiei:S-01\t11.0\t0.978\n",
            "Glaucidium brodiei:S-01\t12.0\t0.758\n",
            "Glaucidium brodiei:S-01\t14.0\t0.86\n",
            "Glaucidium brodiei:S-01\t230.0\t0.678\n",
            "Glaucidium brodiei:S-01\t263.0\t0.818\n",
            "Glaucidium brodiei:S-01\t287.0\t0.735\n"
          ],
          "name": "stdout"
        }
      ]
    }
  ]
}