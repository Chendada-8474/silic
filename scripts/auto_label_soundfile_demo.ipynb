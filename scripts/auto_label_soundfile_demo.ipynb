{
  "nbformat": 4,
  "nbformat_minor": 0,
  "metadata": {
    "colab": {
      "name": "auto_label",
      "provenance": []
    },
    "kernelspec": {
      "name": "python3",
      "display_name": "Python 3"
    },
    "accelerator": "GPU"
  },
  "cells": [
    {
      "cell_type": "code",
      "metadata": {
        "id": "IwAAzQ5BdFfo",
        "colab_type": "code",
        "colab": {}
      },
      "source": [
        "import tensorflow as tf, pandas as pd, numpy as np, time, os"
      ],
      "execution_count": 0,
      "outputs": []
    },
    {
      "cell_type": "code",
      "metadata": {
        "id": "ZwX0lHh9gINi",
        "colab_type": "code",
        "outputId": "6eaae63e-5aeb-4af7-f476-896cc0f5d7a7",
        "colab": {
          "base_uri": "https://localhost:8080/",
          "height": 85
        }
      },
      "source": [
        "!pip install pydub"
      ],
      "execution_count": 2,
      "outputs": [
        {
          "output_type": "stream",
          "text": [
            "Collecting pydub\n",
            "  Downloading https://files.pythonhosted.org/packages/79/db/eaf620b73a1eec3c8c6f8f5b0b236a50f9da88ad57802154b7ba7664d0b8/pydub-0.23.1-py2.py3-none-any.whl\n",
            "Installing collected packages: pydub\n",
            "Successfully installed pydub-0.23.1\n"
          ],
          "name": "stdout"
        }
      ]
    },
    {
      "cell_type": "code",
      "metadata": {
        "id": "GyH-PNAwgPGo",
        "colab_type": "code",
        "colab": {}
      },
      "source": [
        "# pydub\n",
        "from pydub import AudioSegment"
      ],
      "execution_count": 0,
      "outputs": []
    },
    {
      "cell_type": "code",
      "metadata": {
        "id": "3o2ZxRrxcbGH",
        "colab_type": "code",
        "outputId": "35e36702-77b6-4b46-ee91-f761cd50df76",
        "colab": {
          "base_uri": "https://localhost:8080/",
          "height": 119
        }
      },
      "source": [
        "!git clone https://github.com/RedbirdTaiwan/silic.git"
      ],
      "execution_count": 4,
      "outputs": [
        {
          "output_type": "stream",
          "text": [
            "Cloning into 'silic'...\n",
            "remote: Enumerating objects: 30, done.\u001b[K\n",
            "remote: Counting objects:   3% (1/30)\u001b[K\rremote: Counting objects:   6% (2/30)\u001b[K\rremote: Counting objects:  10% (3/30)\u001b[K\rremote: Counting objects:  13% (4/30)\u001b[K\rremote: Counting objects:  16% (5/30)\u001b[K\rremote: Counting objects:  20% (6/30)\u001b[K\rremote: Counting objects:  23% (7/30)\u001b[K\rremote: Counting objects:  26% (8/30)\u001b[K\rremote: Counting objects:  30% (9/30)\u001b[K\rremote: Counting objects:  33% (10/30)\u001b[K\rremote: Counting objects:  36% (11/30)\u001b[K\rremote: Counting objects:  40% (12/30)\u001b[K\rremote: Counting objects:  43% (13/30)\u001b[K\rremote: Counting objects:  46% (14/30)\u001b[K\rremote: Counting objects:  50% (15/30)\u001b[K\rremote: Counting objects:  53% (16/30)\u001b[K\rremote: Counting objects:  56% (17/30)\u001b[K\rremote: Counting objects:  60% (18/30)\u001b[K\rremote: Counting objects:  63% (19/30)\u001b[K\rremote: Counting objects:  66% (20/30)\u001b[K\rremote: Counting objects:  70% (21/30)\u001b[K\rremote: Counting objects:  73% (22/30)\u001b[K\rremote: Counting objects:  76% (23/30)\u001b[K\rremote: Counting objects:  80% (24/30)\u001b[K\rremote: Counting objects:  83% (25/30)\u001b[K\rremote: Counting objects:  86% (26/30)\u001b[K\rremote: Counting objects:  90% (27/30)\u001b[K\rremote: Counting objects:  93% (28/30)\u001b[K\rremote: Counting objects:  96% (29/30)\u001b[K\rremote: Counting objects: 100% (30/30)\u001b[K\rremote: Counting objects: 100% (30/30), done.\u001b[K\n",
            "remote: Compressing objects: 100% (22/22), done.\u001b[K\n",
            "remote: Total 48 (delta 8), reused 29 (delta 7), pack-reused 18\u001b[K\n",
            "Unpacking objects: 100% (48/48), done.\n"
          ],
          "name": "stdout"
        }
      ]
    },
    {
      "cell_type": "code",
      "metadata": {
        "id": "iVoZx-9VN7gh",
        "colab_type": "code",
        "outputId": "c3379591-a83a-498d-e9b5-9c66775d01b0",
        "colab": {
          "base_uri": "https://localhost:8080/",
          "height": 68
        }
      },
      "source": [
        "!ls silic/\n",
        "!ls silic/model\n",
        "!ls silic/sample"
      ],
      "execution_count": 5,
      "outputs": [
        {
          "output_type": "stream",
          "text": [
            "LICENSE  model\tREADME.md  sample  scripts\n",
            "conv_labels.txt  frozen_graph.pb  sound_class.txt\n",
            "11794.mp3\n"
          ],
          "name": "stdout"
        }
      ]
    },
    {
      "cell_type": "code",
      "metadata": {
        "id": "kKNrDm6pzMcx",
        "colab_type": "code",
        "colab": {}
      },
      "source": [
        "class Autolabel():\n",
        "  def __init__(self, label_file, graph_file):\n",
        "    self.label_file = label_file\n",
        "    self.graph_file = graph_file\n",
        "    self.__sound = ''\n",
        "    self.results = {}\n",
        "\n",
        "  def readfile(self, audio_file):\n",
        "    frame_rate = 30000\n",
        "    filext = audio_file[-3:].lower()\n",
        "    if filext == \"mp3\":\n",
        "        self.__sound = AudioSegment.from_mp3(audio_file)\n",
        "    elif filext == \"wma\":\n",
        "        self.__sound = AudioSegment.from_file(audio_file, \"wma\")\n",
        "    elif filext == \"m4a\":\n",
        "        self.__sound = AudioSegment.from_file(audio_file, \"m4a\")\n",
        "    elif filext == \"ogg\":\n",
        "        self.__sound = AudioSegment.from_ogg(audio_file)\n",
        "    else:\n",
        "        self.__sound = AudioSegment.from_wav(audio_file)\n",
        "    if self.__sound.frame_rate > frame_rate:\n",
        "        self.__sound = self.__sound.set_frame_rate(frame_rate)\n",
        "    if self.__sound.channels > 1:\n",
        "        self.__sound = self.__sound.split_to_mono()[0]\n",
        "    if not self.__sound.sample_width == 2:\n",
        "        self.__sound = self.__sound.set_sample_width(2)\n",
        "\n",
        "  def ailabel(self, **kwargs):\n",
        "    if not len(self.__sound):\n",
        "      print('use \".readfile(<audio_file_path>)\" to import a recording')\n",
        "      return false\n",
        "    sample_rate = 30000\n",
        "    clip_duration_ms = 1000\n",
        "    if not 'step' in kwargs.keys():\n",
        "      step = 1000\n",
        "    else:\n",
        "      step = kwargs['step']\n",
        "    labels_list = [line.rstrip() for line in tf.io.gfile.GFile(self.label_file)]\n",
        "    with tf.io.gfile.GFile(self.graph_file, 'rb') as f:\n",
        "      graph_def = tf.compat.v1.GraphDef()\n",
        "      graph_def.ParseFromString(f.read())\n",
        "      tf.import_graph_def(graph_def, name='')\n",
        "    sess = tf.compat.v1.Session()\n",
        "    softmax_tensor = sess.graph.get_tensor_by_name('labels_softmax:0')\n",
        "    self.results = {k:[] for k in labels_list[2:]}\n",
        "    for t in range(0,len(self.__sound),step):\n",
        "      if (t + clip_duration_ms) < len(self.__sound):\n",
        "        soundclip = self.__sound[t:t+clip_duration_ms]\n",
        "        soundclip.export('tmp.wav', format=\"wav\")\n",
        "        with open('tmp.wav', 'rb') as wav:\n",
        "          wav_data2 = wav.read()\n",
        "        predictions, = sess.run(softmax_tensor, {'wav_data:0': wav_data2})\n",
        "        for node_id in range(2, len(labels_list)):\n",
        "          song_of_bird = labels_list[node_id]\n",
        "          score = round(predictions[node_id],3)\n",
        "          self.results[song_of_bird].append([t,score])"
      ],
      "execution_count": 0,
      "outputs": []
    },
    {
      "cell_type": "code",
      "metadata": {
        "id": "BXd19AnA3DVy",
        "colab_type": "code",
        "colab": {}
      },
      "source": [
        "test = Autolabel('silic/model/conv_labels.txt', 'silic/model/frozen_graph.pb')"
      ],
      "execution_count": 0,
      "outputs": []
    },
    {
      "cell_type": "code",
      "metadata": {
        "id": "zGc6nHqy3NPS",
        "colab_type": "code",
        "colab": {}
      },
      "source": [
        "test.readfile('silic/sample/11794.mp3')"
      ],
      "execution_count": 0,
      "outputs": []
    },
    {
      "cell_type": "code",
      "metadata": {
        "id": "euCqnvQu6Qk6",
        "colab_type": "code",
        "colab": {}
      },
      "source": [
        "test.ailabel(step=250)"
      ],
      "execution_count": 0,
      "outputs": []
    },
    {
      "cell_type": "code",
      "metadata": {
        "id": "I17fQ_Np3zi_",
        "colab_type": "code",
        "outputId": "177ff220-38fc-4909-e76b-f065bf3564d5",
        "colab": {
          "base_uri": "https://localhost:8080/",
          "height": 1000
        }
      },
      "source": [
        "results = test.results\n",
        "soundclass = pd.read_csv('silic/model/sound_class.txt', index_col=0, sep='\\t').T.to_dict()\n",
        "for soundid, scores in zip(results.keys(), results.values()):\n",
        "  for score in scores:\n",
        "    if score[1] >= 0.8:\n",
        "      sound = soundclass[int(soundid)]['scientific_name'] + ':' + soundclass[int(soundid)]['class_name']\n",
        "      time_start = score[0]/1000\n",
        "      ai_score = score[1]\n",
        "      print(sound, time_start, ai_score)"
      ],
      "execution_count": 19,
      "outputs": [
        {
          "output_type": "stream",
          "text": [
            "Otus spilocephalus:S-01 0.75 0.834\n",
            "Otus spilocephalus:S-01 35.25 0.835\n",
            "Otus spilocephalus:S-01 163.75 0.868\n",
            "Otus spilocephalus:S-01 219.25 0.826\n",
            "Otus spilocephalus:S-01 227.75 0.922\n",
            "Otus spilocephalus:S-01 233.0 0.844\n",
            "Otus spilocephalus:S-01 246.75 0.846\n",
            "Otus spilocephalus:S-01 247.75 0.936\n",
            "Otus spilocephalus:S-01 252.75 0.805\n",
            "Otus spilocephalus:S-01 253.5 0.905\n",
            "Otus spilocephalus:S-01 260.5 0.819\n",
            "Ninox japonica:S-01 3.0 0.827\n",
            "Ninox japonica:S-01 5.75 0.828\n",
            "Ninox japonica:S-01 37.5 0.951\n",
            "Ninox japonica:S-01 38.0 0.809\n",
            "Ninox japonica:S-01 38.75 0.909\n",
            "Ninox japonica:S-01 40.0 0.981\n",
            "Ninox japonica:S-01 40.75 0.858\n",
            "Ninox japonica:S-01 41.25 0.938\n",
            "Ninox japonica:S-01 42.0 0.811\n",
            "Ninox japonica:S-01 43.25 0.92\n",
            "Ninox japonica:S-01 43.75 0.902\n",
            "Ninox japonica:S-01 44.0 0.946\n",
            "Ninox japonica:S-01 44.5 0.9\n",
            "Ninox japonica:S-01 45.25 0.902\n",
            "Ninox japonica:S-01 46.5 0.965\n",
            "Ninox japonica:S-01 47.25 0.817\n",
            "Ninox japonica:S-01 47.75 0.9\n",
            "Ninox japonica:S-01 50.5 0.95\n",
            "Ninox japonica:S-01 51.75 0.948\n",
            "Ninox japonica:S-01 93.25 0.811\n",
            "Ninox japonica:S-01 93.75 0.828\n",
            "Ninox japonica:S-01 94.0 0.861\n",
            "Ninox japonica:S-01 94.25 0.844\n",
            "Ninox japonica:S-01 94.5 0.978\n",
            "Ninox japonica:S-01 95.25 0.891\n",
            "Ninox japonica:S-01 95.75 0.97\n",
            "Ninox japonica:S-01 96.5 0.873\n",
            "Ninox japonica:S-01 97.0 0.944\n",
            "Ninox japonica:S-01 97.25 0.848\n",
            "Ninox japonica:S-01 97.75 0.913\n",
            "Ninox japonica:S-01 98.25 0.92\n",
            "Ninox japonica:S-01 98.5 0.895\n",
            "Ninox japonica:S-01 99.0 0.903\n",
            "Ninox japonica:S-01 99.75 0.915\n",
            "Ninox japonica:S-01 100.25 0.892\n",
            "Ninox japonica:S-01 101.0 0.967\n",
            "Ninox japonica:S-01 102.25 0.985\n",
            "Ninox japonica:S-01 103.0 0.837\n",
            "Ninox japonica:S-01 103.5 0.953\n",
            "Ninox japonica:S-01 104.25 0.821\n",
            "Ninox japonica:S-01 104.75 0.926\n",
            "Ninox japonica:S-01 105.0 0.869\n",
            "Ninox japonica:S-01 105.5 0.856\n",
            "Ninox japonica:S-01 106.25 0.885\n",
            "Ninox japonica:S-01 106.75 0.889\n",
            "Ninox japonica:S-01 107.5 0.966\n",
            "Ninox japonica:S-01 108.75 0.956\n",
            "Ninox japonica:S-01 109.5 0.838\n",
            "Ninox japonica:S-01 113.5 0.841\n",
            "Ninox japonica:S-01 114.25 0.851\n",
            "Ninox japonica:S-01 146.5 0.808\n",
            "Ninox japonica:S-01 147.75 0.924\n",
            "Ninox japonica:S-01 148.25 0.911\n",
            "Ninox japonica:S-01 149.0 0.907\n",
            "Ninox japonica:S-01 149.5 0.862\n",
            "Ninox japonica:S-01 151.5 0.901\n",
            "Ninox japonica:S-01 152.75 0.973\n",
            "Ninox japonica:S-01 153.5 0.851\n",
            "Ninox japonica:S-01 154.0 0.822\n",
            "Ninox japonica:S-01 184.75 0.845\n",
            "Ninox japonica:S-01 185.25 0.878\n",
            "Ninox japonica:S-01 185.5 0.836\n",
            "Ninox japonica:S-01 185.75 0.886\n",
            "Ninox japonica:S-01 186.0 0.993\n",
            "Ninox japonica:S-01 186.5 0.897\n",
            "Ninox japonica:S-01 187.25 0.967\n",
            "Ninox japonica:S-01 188.0 0.801\n",
            "Ninox japonica:S-01 188.5 0.988\n",
            "Ninox japonica:S-01 189.75 0.955\n",
            "Ninox japonica:S-01 190.5 0.89\n",
            "Ninox japonica:S-01 191.0 0.957\n",
            "Ninox japonica:S-01 191.25 0.844\n",
            "Ninox japonica:S-01 191.5 0.854\n",
            "Ninox japonica:S-01 192.25 0.922\n",
            "Ninox japonica:S-01 192.5 0.873\n",
            "Ninox japonica:S-01 193.0 0.832\n",
            "Ninox japonica:S-01 193.5 0.88\n",
            "Ninox japonica:S-01 193.75 0.982\n",
            "Ninox japonica:S-01 194.5 0.849\n",
            "Ninox japonica:S-01 194.75 0.823\n",
            "Ninox japonica:S-01 195.0 0.952\n",
            "Ninox japonica:S-01 197.0 0.906\n",
            "Ninox japonica:S-01 197.5 0.811\n",
            "Ninox japonica:S-01 197.75 0.926\n",
            "Ninox japonica:S-01 199.0 0.958\n",
            "Ninox japonica:S-01 199.75 0.826\n",
            "Ninox japonica:S-01 201.75 0.923\n",
            "Ninox japonica:S-01 203.0 0.856\n",
            "Ninox japonica:S-01 204.5 0.859\n",
            "Ninox japonica:S-01 207.25 0.927\n",
            "Ninox japonica:S-01 207.5 0.804\n",
            "Ninox japonica:S-01 209.75 0.928\n",
            "Ninox japonica:S-01 210.0 0.913\n",
            "Ninox japonica:S-01 210.25 0.917\n",
            "Ninox japonica:S-01 210.5 0.81\n",
            "Ninox japonica:S-01 211.25 0.889\n",
            "Ninox japonica:S-01 213.75 0.8\n",
            "Ninox japonica:S-01 214.0 0.963\n",
            "Ninox japonica:S-01 214.75 0.815\n",
            "Ninox japonica:S-01 269.5 0.933\n",
            "Ninox japonica:S-01 270.0 0.918\n",
            "Ninox japonica:S-01 270.75 0.858\n",
            "Ninox japonica:S-01 271.5 0.9\n",
            "Ninox japonica:S-01 271.75 0.804\n",
            "Ninox japonica:S-01 272.0 0.817\n",
            "Ninox japonica:S-01 272.75 0.847\n",
            "Ninox japonica:S-01 274.0 0.878\n",
            "Ninox japonica:S-01 274.75 0.869\n",
            "Ninox japonica:S-01 275.25 0.989\n",
            "Ninox japonica:S-01 275.5 0.805\n",
            "Ninox japonica:S-01 275.75 0.886\n",
            "Ninox japonica:S-01 276.0 0.926\n",
            "Ninox japonica:S-01 276.25 0.867\n",
            "Ninox japonica:S-01 276.5 0.976\n",
            "Ninox japonica:S-01 277.75 0.81\n",
            "Glaucidium brodiei:S-01 9.0 0.804\n",
            "Glaucidium brodiei:S-01 11.0 0.924\n",
            "Glaucidium brodiei:S-01 11.25 0.971\n",
            "Glaucidium brodiei:S-01 11.5 0.944\n",
            "Glaucidium brodiei:S-01 11.75 0.903\n",
            "Glaucidium brodiei:S-01 12.0 0.813\n",
            "Glaucidium brodiei:S-01 12.25 0.913\n",
            "Glaucidium brodiei:S-01 14.75 0.84\n",
            "Glaucidium brodiei:S-01 15.0 0.843\n",
            "Glaucidium brodiei:S-01 15.5 0.893\n",
            "Glaucidium brodiei:S-01 16.0 0.844\n",
            "Glaucidium brodiei:S-01 231.25 0.911\n",
            "Glaucidium brodiei:S-01 231.5 0.803\n",
            "Glaucidium brodiei:S-01 263.0 0.889\n"
          ],
          "name": "stdout"
        }
      ]
    }
  ]
}